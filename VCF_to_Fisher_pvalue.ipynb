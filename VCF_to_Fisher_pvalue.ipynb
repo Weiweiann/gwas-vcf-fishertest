{
 "cells": [
  {
   "cell_type": "code",
   "execution_count": 16,
   "metadata": {
    "collapsed": false
   },
   "outputs": [],
   "source": [
    "import multiprocessing\n",
    "from pathlib import Path\n",
    "import pandas as pd"
   ]
  },
  {
   "cell_type": "code",
   "execution_count": 17,
   "metadata": {
    "collapsed": true
   },
   "outputs": [],
   "source": [
    "all_data = Path('../testdata/').glob('*.vcf')"
   ]
  },
  {
   "cell_type": "code",
   "execution_count": 18,
   "metadata": {
    "collapsed": false
   },
   "outputs": [],
   "source": [
    "all_path = []\n",
    "for d in all_data:\n",
    "    all_path.append(d)\n",
    "    \n",
    "    \n",
    "    \n",
    "controls = [x.name for x in all_path[0:10] ]\n",
    "patients = [x.name for x in all_path[10:]]"
   ]
  },
  {
   "cell_type": "code",
   "execution_count": 4,
   "metadata": {
    "collapsed": false
   },
   "outputs": [],
   "source": [
    "# function to get array with chromsome, position, ref, alt, in single .vcf file\n",
    "def getindex(file):\n",
    "    array = []\n",
    "    with file.open() as f:\n",
    "        for line in f:\n",
    "            if line.startswith(current_chromosome):\n",
    "                try:\n",
    "                    block = line.split('\\t')\n",
    "                    chromosome = block[0]\n",
    "                    position = block[1]\n",
    "                    ref = block[3]\n",
    "                    alt = block[4]\n",
    "                    PK = chromosome + ':' + position + ':' + ref + ':' + alt\n",
    "\n",
    "                    array.append(PK)\n",
    "                except:\n",
    "                    print(line + '---  error')\n",
    "                \n",
    "    return(array)"
   ]
  },
  {
   "cell_type": "code",
   "execution_count": 5,
   "metadata": {
    "collapsed": true
   },
   "outputs": [],
   "source": [
    "# function to append array from every vcf to unique set.\n",
    "\n",
    "def addtoset(result):\n",
    "    for res in result:\n",
    "        for r in res:\n",
    "            shareset.add(r)"
   ]
  },
  {
   "cell_type": "code",
   "execution_count": 6,
   "metadata": {
    "collapsed": false
   },
   "outputs": [],
   "source": [
    "## map type\n",
    "def getGenotype(single_vcf_file):\n",
    "    vcf = single_vcf_file.open()\n",
    "\n",
    "    PK_sample = dict()  # dict(vcf_per_line:index)\n",
    "    Sample = []\n",
    "    line_count = 0\n",
    "\n",
    "    for num, line in enumerate(vcf):\n",
    "        if line.startswith(current_chromosome):\n",
    "            block = line.split('\\t')\n",
    "            chromosome = block[0]\n",
    "            position = block[1]\n",
    "            ref = block[3]\n",
    "            alt = block[4]\n",
    "            PK = chromosome + \":\" + position + \":\" +ref + \":\" + alt\n",
    "            PK_sample[PK] = line_count\n",
    "            line_count += 1\n",
    "            Sample.append(line)\n",
    "\n",
    "    genotype = ['none']*len(shareset_list)\n",
    "    for i in range(0, len(shareset_list)):\n",
    "        per_unique_loc = shareset_list[i]\n",
    "\n",
    "        # get the vcf line of sample, and transfer the GT label.\n",
    "        if per_unique_loc in PK_sample.keys():\n",
    "            index = PK_sample[per_unique_loc]\n",
    "            block = Sample[index].split('\\t')\n",
    "            ref = block[3]\n",
    "            alt = block[4].split(',')\n",
    "            if alt != '<CNV>':\n",
    "                table = [ref] + [a for a in alt]\n",
    "                GT = block[9].split(':')[0]\n",
    "                genotype_row = []\n",
    "                for geno_num in GT.split('/'):\n",
    "                    genotype_row.append(table[int(geno_num)])\n",
    "\n",
    "                # print(genotype_row, i)\n",
    "                genotype[i] = ''.join(genotype_row)\n",
    "        else:\n",
    "            ref = per_unique_loc.split(':')[2]\n",
    "            genotype[i] = \"\"+ref+ref\n",
    "\n",
    "            \n",
    "    \n",
    "    genotype.append(single_vcf_file.name)\n",
    "\n",
    "    return genotype"
   ]
  },
  {
   "cell_type": "code",
   "execution_count": null,
   "metadata": {
    "collapsed": true
   },
   "outputs": [],
   "source": [
    "# get size \n",
    "from sys import getsizeof\n",
    "getsizeof(shareset)/1024/1024"
   ]
  },
  {
   "cell_type": "code",
   "execution_count": 7,
   "metadata": {
    "collapsed": false
   },
   "outputs": [],
   "source": [
    "\n",
    "def addtolist(l):\n",
    "    for res in l:\n",
    "        GT[res[-1]] = res[:-1]\n"
   ]
  },
  {
   "cell_type": "code",
   "execution_count": 8,
   "metadata": {
    "collapsed": false
   },
   "outputs": [],
   "source": [
    "from scipy import stats\n",
    "\n",
    "def calfisher(row):\n",
    "    \n",
    "    index = row[0].split(\":\")\n",
    "    \n",
    "    chrom = index[0][3:]\n",
    "    pos = index[1]\n",
    "    \n",
    "    ref = index[2]\n",
    "    ref = ref+ref\n",
    "\n",
    "    Con_AA = 0\n",
    "    Con_AB = 0\n",
    "\n",
    "    for con in controls:\n",
    "        if row[1][con] == ref:\n",
    "            Con_AA += 1\n",
    "        else:\n",
    "            Con_AB += 1\n",
    "\n",
    "    Pat_AA = 0\n",
    "    Pat_AB = 0\n",
    "    for pat in patients:\n",
    "        if row[1][pat] == ref:\n",
    "            Pat_AA += 1\n",
    "        else:\n",
    "            Pat_AB += 1\n",
    "\n",
    "    oddsratio, pvalue = stats.fisher_exact([[Con_AA, Pat_AA],[Con_AB,Pat_AB]])\n",
    "\n",
    "    return [chrom, pos, pvalue]"
   ]
  },
  {
   "cell_type": "code",
   "execution_count": 9,
   "metadata": {
    "collapsed": false
   },
   "outputs": [],
   "source": [
    "def addtoresult(l):\n",
    "    for res in l:\n",
    "        result.append(res)"
   ]
  },
  {
   "cell_type": "code",
   "execution_count": 77,
   "metadata": {
    "collapsed": false
   },
   "outputs": [],
   "source": []
  },
  {
   "cell_type": "code",
   "execution_count": 21,
   "metadata": {
    "collapsed": false
   },
   "outputs": [],
   "source": [
    "chr_set = ['chr' + str(x) for x in range(1,23) ] + ['chrX','chrY','chrM']\n",
    "\n",
    "for current_chromosome in chr_set:\n",
    "    shareset = set()\n",
    "    p = multiprocessing.Pool(4)\n",
    "\n",
    "    p.map_async(getindex, all_path, callback=addtoset)\n",
    "    p.close()\n",
    "    p.join()\n",
    "\n",
    "    df = pd.DataFrame(index=shareset)\n",
    "\n",
    "    shareset_list = []\n",
    "    for line in shareset:\n",
    "        shareset_list.append(line)\n",
    "    shareset_list = sorted(shareset_list)\n",
    "\n",
    "    GT = dict()\n",
    "\n",
    "    p = multiprocessing.Pool(4)\n",
    "    p.map_async(getGenotype, all_path, callback=addtolist)\n",
    "    p.close()\n",
    "    p.join()\n",
    "\n",
    "    df = pd.DataFrame(GT)\n",
    "    df.index = shareset_list\n",
    "    \n",
    "    result = list()\n",
    "\n",
    "    p = multiprocessing.Pool(4)\n",
    "    p.map_async(calfisher, df.iterrows(), callback=addtoresult)\n",
    "    p.close()\n",
    "    p.join()\n",
    "\n",
    "    pd.DataFrame(result, columns=['CHR','BP','P']).to_csv('./' + current_chromosome +'.csv')"
   ]
  },
  {
   "cell_type": "code",
   "execution_count": 78,
   "metadata": {
    "collapsed": false
   },
   "outputs": [
    {
     "data": {
      "text/plain": [
       "['1', '10000', 1.0]"
      ]
     },
     "execution_count": 78,
     "metadata": {},
     "output_type": "execute_result"
    }
   ],
   "source": [
    "calfisher(next(df.iterrows()))"
   ]
  },
  {
   "cell_type": "code",
   "execution_count": 13,
   "metadata": {
    "collapsed": false
   },
   "outputs": [
    {
     "data": {
      "text/plain": [
       "'chr1'"
      ]
     },
     "execution_count": 13,
     "metadata": {},
     "output_type": "execute_result"
    }
   ],
   "source": [
    "current_chromosome"
   ]
  },
  {
   "cell_type": "code",
   "execution_count": 14,
   "metadata": {
    "collapsed": false
   },
   "outputs": [
    {
     "data": {
      "text/plain": [
       "{}"
      ]
     },
     "execution_count": 14,
     "metadata": {},
     "output_type": "execute_result"
    }
   ],
   "source": [
    "GT"
   ]
  },
  {
   "cell_type": "code",
   "execution_count": 19,
   "metadata": {
    "collapsed": false
   },
   "outputs": [
    {
     "data": {
      "text/plain": [
       "[PosixPath('../testdata/small_2013NGS002B1_TSVC.vcf'),\n",
       " PosixPath('../testdata/small_2013NGS005E1_TSVC.vcf'),\n",
       " PosixPath('../testdata/small_2013NGS008H1_TSVC.vcf'),\n",
       " PosixPath('../testdata/small_2013NGS010B2_TSVC.vcf'),\n",
       " PosixPath('../testdata/small_2013NGS018B3_TSVC.vcf'),\n",
       " PosixPath('../testdata/small_2013NGS020D3_TSVC.vcf'),\n",
       " PosixPath('../testdata/small_2013NGS024H3_TSVC.vcf'),\n",
       " PosixPath('../testdata/small_2013NGS035C5_TSVC.vcf'),\n",
       " PosixPath('../testdata/small_2013NGS036D5_TSVC.vcf'),\n",
       " PosixPath('../testdata/small_2013NGS042B6_TSVC.vcf'),\n",
       " PosixPath('../testdata/small_2013NGS056H7_TSVC.vcf'),\n",
       " PosixPath('../testdata/small_2013NGS059C8_TSVC.vcf'),\n",
       " PosixPath('../testdata/small_2013NGS068D9_TSVC.vcf'),\n",
       " PosixPath('../testdata/small_2013NGS072H9_TSVC.vcf'),\n",
       " PosixPath('../testdata/small_2013NGS078F10_TSVC.vcf'),\n",
       " PosixPath('../testdata/small_2013NGS082B11_TSVC.vcf'),\n",
       " PosixPath('../testdata/small_2013NGS088H11_TSVC.vcf'),\n",
       " PosixPath('../testdata/small_2013NGS094F12_TSVC.vcf'),\n",
       " PosixPath('../testdata/small_2013NGS096H12_TSVC.vcf'),\n",
       " PosixPath('../testdata/small_NGS20140102F_TSVC.vcf'),\n",
       " PosixPath('../testdata/small_NGS20140102G_TSVC.vcf'),\n",
       " PosixPath('../testdata/small_NGS20140202E_TSVC.vcf'),\n",
       " PosixPath('../testdata/small_NGS20140203E_TSVC.vcf'),\n",
       " PosixPath('../testdata/small_NGS20140204E_TSVC.vcf'),\n",
       " PosixPath('../testdata/small_NGS20140205A_TSVC.vcf'),\n",
       " PosixPath('../testdata/small_NGS20140206H_TSVC.vcf'),\n",
       " PosixPath('../testdata/small_NGS20140207F_TSVC.vcf'),\n",
       " PosixPath('../testdata/small_NGS20140208E_TSVC.vcf'),\n",
       " PosixPath('../testdata/small_NGS20140209C_TSVC.vcf'),\n",
       " PosixPath('../testdata/small_NGS20140210G_TSVC.vcf'),\n",
       " PosixPath('../testdata/small_NGS20140210H_TSVC.vcf'),\n",
       " PosixPath('../testdata/small_NGS20140212E_TSVC.vcf'),\n",
       " PosixPath('../testdata/small_NGS20140302C_TSVC.vcf'),\n",
       " PosixPath('../testdata/small_NGS20140601A_S1.vcf'),\n",
       " PosixPath('../testdata/small_NGS20140601B_S1.vcf'),\n",
       " PosixPath('../testdata/small_NGS20140601C_S1.vcf'),\n",
       " PosixPath('../testdata/small_NGS20140601D_S1.vcf'),\n",
       " PosixPath('../testdata/small_NGS20140601E_S1.vcf'),\n",
       " PosixPath('../testdata/small_NGS20140601F_S1.vcf'),\n",
       " PosixPath('../testdata/small_NGS20140601G_S1.vcf'),\n",
       " PosixPath('../testdata/small_NGS20140601H_S1.vcf'),\n",
       " PosixPath('../testdata/small_NGS20140602A_S1.vcf'),\n",
       " PosixPath('../testdata/small_NGS20140602B_S1.vcf'),\n",
       " PosixPath('../testdata/small_NGS20140602C_S1.vcf'),\n",
       " PosixPath('../testdata/small_NGS20140602D_S1.vcf'),\n",
       " PosixPath('../testdata/small_NGS20140602E_S1.vcf'),\n",
       " PosixPath('../testdata/small_NGS20140602F_S1.vcf'),\n",
       " PosixPath('../testdata/small_NGS20140602H_S1.vcf'),\n",
       " PosixPath('../testdata/small_NGS20140603A_S1.vcf'),\n",
       " PosixPath('../testdata/small_NGS20140603B_S1.vcf'),\n",
       " PosixPath('../testdata/small_NGS20140603C_S1.vcf'),\n",
       " PosixPath('../testdata/small_NGS20140603D_S1.vcf'),\n",
       " PosixPath('../testdata/small_NGS20140603E_S1.vcf'),\n",
       " PosixPath('../testdata/small_NGS20140603F_S1.vcf'),\n",
       " PosixPath('../testdata/small_NGS20140603G_S1.vcf'),\n",
       " PosixPath('../testdata/small_NGS20140603H_S1.vcf'),\n",
       " PosixPath('../testdata/small_NGS20140604A_S1.vcf'),\n",
       " PosixPath('../testdata/small_NGS20140604B_S1.vcf'),\n",
       " PosixPath('../testdata/small_NGS20140604C_S1.vcf'),\n",
       " PosixPath('../testdata/small_NGS20140604D_S1.vcf'),\n",
       " PosixPath('../testdata/small_NGS20140604E_S1.vcf'),\n",
       " PosixPath('../testdata/small_NGS20140604F_S1.vcf'),\n",
       " PosixPath('../testdata/small_NGS20140604G_S1.vcf'),\n",
       " PosixPath('../testdata/small_NGS20140604H_S1.vcf'),\n",
       " PosixPath('../testdata/small_NGS20140605A_S1.vcf'),\n",
       " PosixPath('../testdata/small_NGS20140605C_S1.vcf'),\n",
       " PosixPath('../testdata/small_NGS20140605D_S1.vcf'),\n",
       " PosixPath('../testdata/small_NGS20140605E_S1.vcf'),\n",
       " PosixPath('../testdata/small_NGS20140605F_S1.vcf'),\n",
       " PosixPath('../testdata/small_NGS20140605G_S1.vcf'),\n",
       " PosixPath('../testdata/small_NGS20140605H_S1.vcf'),\n",
       " PosixPath('../testdata/small_NGS20140606A_S1.vcf'),\n",
       " PosixPath('../testdata/small_NGS20140606B_S1.vcf'),\n",
       " PosixPath('../testdata/small_NGS20140606C_S1.vcf'),\n",
       " PosixPath('../testdata/small_NGS20140606D_S1.vcf'),\n",
       " PosixPath('../testdata/small_NGS20140606E_S1.vcf'),\n",
       " PosixPath('../testdata/small_NGS20140606F_S1.vcf'),\n",
       " PosixPath('../testdata/small_NGS20140606G_S1.vcf'),\n",
       " PosixPath('../testdata/small_NGS20140606H_S1.vcf'),\n",
       " PosixPath('../testdata/small_NGS20140607A_S1.vcf'),\n",
       " PosixPath('../testdata/small_NGS20140607B_S1.vcf'),\n",
       " PosixPath('../testdata/small_NGS20140607C_S1.vcf'),\n",
       " PosixPath('../testdata/small_NGS20140607D_S1.vcf'),\n",
       " PosixPath('../testdata/small_NGS20140607E_S1.vcf'),\n",
       " PosixPath('../testdata/small_NGS20140607F_S1.vcf'),\n",
       " PosixPath('../testdata/small_NGS20140607G_S1.vcf'),\n",
       " PosixPath('../testdata/small_NGS20140607H_S1.vcf'),\n",
       " PosixPath('../testdata/small_NGS20140608A_S1.vcf'),\n",
       " PosixPath('../testdata/small_NGS20140608B_S1.vcf'),\n",
       " PosixPath('../testdata/small_NGS20140608C_S1.vcf'),\n",
       " PosixPath('../testdata/small_NGS20140608D_S1.vcf'),\n",
       " PosixPath('../testdata/small_NGS20140608E_S1.vcf'),\n",
       " PosixPath('../testdata/small_NGS20140608F_S1.vcf'),\n",
       " PosixPath('../testdata/small_NGS20140608G_S1.vcf'),\n",
       " PosixPath('../testdata/small_NGS20140608H_S1.vcf'),\n",
       " PosixPath('../testdata/small_NGS20140609A_S1.vcf'),\n",
       " PosixPath('../testdata/small_NGS20140609B_S1.vcf'),\n",
       " PosixPath('../testdata/small_NGS20140609C_S1.vcf'),\n",
       " PosixPath('../testdata/small_NGS20140609D_S1.vcf'),\n",
       " PosixPath('../testdata/small_NGS20140609E_S1.vcf'),\n",
       " PosixPath('../testdata/small_NGS20140609F_S1.vcf'),\n",
       " PosixPath('../testdata/small_NGS20140609G_S1.vcf'),\n",
       " PosixPath('../testdata/small_NGS20140609H_S1.vcf'),\n",
       " PosixPath('../testdata/small_NGS20140610A_S1.vcf'),\n",
       " PosixPath('../testdata/small_NGS20140610B_S1.vcf'),\n",
       " PosixPath('../testdata/small_NGS20140610C_S1.vcf'),\n",
       " PosixPath('../testdata/small_NGS20140610E_S1.vcf'),\n",
       " PosixPath('../testdata/small_NGS20140610F_S1.vcf'),\n",
       " PosixPath('../testdata/small_NGS20140610G_S1.vcf'),\n",
       " PosixPath('../testdata/small_NGS20140610H_S1.vcf'),\n",
       " PosixPath('../testdata/small_NGS20140611A_S1.vcf'),\n",
       " PosixPath('../testdata/small_NGS20140611B_S1.vcf'),\n",
       " PosixPath('../testdata/small_NGS20140611C_S1.vcf'),\n",
       " PosixPath('../testdata/small_NGS20140611D_S1.vcf'),\n",
       " PosixPath('../testdata/small_NGS20140611E_S1.vcf'),\n",
       " PosixPath('../testdata/small_NGS20140611F_S1.vcf'),\n",
       " PosixPath('../testdata/small_NGS20140611G_S1.vcf'),\n",
       " PosixPath('../testdata/small_NGS20140611H_S1.vcf'),\n",
       " PosixPath('../testdata/small_NGS20140612B_S1.vcf'),\n",
       " PosixPath('../testdata/small_NGS20140612C_S1.vcf'),\n",
       " PosixPath('../testdata/small_NGS20140612D_S1.vcf'),\n",
       " PosixPath('../testdata/small_NGS20140612E_S1.vcf'),\n",
       " PosixPath('../testdata/small_NGS20140612F_S1.vcf'),\n",
       " PosixPath('../testdata/small_NGS20140612G_S1.vcf'),\n",
       " PosixPath('../testdata/small_NGS20140612H_S1.vcf'),\n",
       " PosixPath('../testdata/small_NGS20140701A_S1.vcf'),\n",
       " PosixPath('../testdata/small_NGS20140701B_S1.vcf'),\n",
       " PosixPath('../testdata/small_NGS20140701C_S1.vcf'),\n",
       " PosixPath('../testdata/small_NGS20140701D_S1.vcf'),\n",
       " PosixPath('../testdata/small_NGS20140701E_S1.vcf'),\n",
       " PosixPath('../testdata/small_NGS20140701F_S1.vcf'),\n",
       " PosixPath('../testdata/small_NGS20140701G_S1.vcf'),\n",
       " PosixPath('../testdata/small_NGS20140701H_S1.vcf'),\n",
       " PosixPath('../testdata/small_NGS20140702A_S1.vcf'),\n",
       " PosixPath('../testdata/small_NGS20140702B_S1.vcf'),\n",
       " PosixPath('../testdata/small_NGS20140702C_S1.vcf'),\n",
       " PosixPath('../testdata/small_NGS20140702D_S1.vcf'),\n",
       " PosixPath('../testdata/small_NGS20140702E_S1.vcf'),\n",
       " PosixPath('../testdata/small_NGS20140702F_S1.vcf'),\n",
       " PosixPath('../testdata/small_NGS20140702G_S1.vcf'),\n",
       " PosixPath('../testdata/small_NGS20140702H_S1.vcf'),\n",
       " PosixPath('../testdata/small_NGS20140703A_S1.vcf'),\n",
       " PosixPath('../testdata/small_NGS20140703B_S1.vcf'),\n",
       " PosixPath('../testdata/small_NGS20140703C_S1.vcf'),\n",
       " PosixPath('../testdata/small_NGS20140703D_S1.vcf'),\n",
       " PosixPath('../testdata/small_NGS20140703E_S1.vcf'),\n",
       " PosixPath('../testdata/small_NGS20140703F_S1.vcf'),\n",
       " PosixPath('../testdata/small_NGS20140703G_S1.vcf'),\n",
       " PosixPath('../testdata/small_NGS20140703H_S1.vcf'),\n",
       " PosixPath('../testdata/small_NGS20140704A_S1.vcf'),\n",
       " PosixPath('../testdata/small_NGS20140704B_S1.vcf'),\n",
       " PosixPath('../testdata/small_NGS20140704C_S1.vcf'),\n",
       " PosixPath('../testdata/small_NGS20140704D_S1.vcf'),\n",
       " PosixPath('../testdata/small_NGS20140704E_S1.vcf'),\n",
       " PosixPath('../testdata/small_NGS20140704F_S1.vcf'),\n",
       " PosixPath('../testdata/small_NGS20140704G_S1.vcf'),\n",
       " PosixPath('../testdata/small_NGS20140704H_S1.vcf'),\n",
       " PosixPath('../testdata/small_NGS20140705A_S1.vcf'),\n",
       " PosixPath('../testdata/small_NGS20140705B_S1.vcf'),\n",
       " PosixPath('../testdata/small_NGS20140705C_S1.vcf'),\n",
       " PosixPath('../testdata/small_NGS20140705D_S1.vcf'),\n",
       " PosixPath('../testdata/small_NGS20140705E_S1.vcf'),\n",
       " PosixPath('../testdata/small_NGS20140705F_S1.vcf'),\n",
       " PosixPath('../testdata/small_NGS20140705G_S1.vcf'),\n",
       " PosixPath('../testdata/small_NGS20140705H_S1.vcf'),\n",
       " PosixPath('../testdata/small_NGS20140706A_S1.vcf'),\n",
       " PosixPath('../testdata/small_NGS20140706B_S1.vcf'),\n",
       " PosixPath('../testdata/small_NGS20140706D_S1.vcf'),\n",
       " PosixPath('../testdata/small_NGS20140706E_S1.vcf'),\n",
       " PosixPath('../testdata/small_NGS20140706F_S1.vcf'),\n",
       " PosixPath('../testdata/small_NGS20140706G_S1.vcf'),\n",
       " PosixPath('../testdata/small_NGS20140706H_S1.vcf'),\n",
       " PosixPath('../testdata/small_NGS20140707A_S1.vcf'),\n",
       " PosixPath('../testdata/small_NGS20140707B_S1.vcf'),\n",
       " PosixPath('../testdata/small_NGS20140707C_S1.vcf'),\n",
       " PosixPath('../testdata/small_NGS20140707D_S1.vcf'),\n",
       " PosixPath('../testdata/small_NGS20140707E_S1.vcf'),\n",
       " PosixPath('../testdata/small_NGS20140707F_S1.vcf'),\n",
       " PosixPath('../testdata/small_NGS20140707G_S1.vcf'),\n",
       " PosixPath('../testdata/small_NGS20140708A_S1.vcf'),\n",
       " PosixPath('../testdata/small_NGS20140708B_S1.vcf'),\n",
       " PosixPath('../testdata/small_NGS20140708C_S1.vcf'),\n",
       " PosixPath('../testdata/small_NGS20140708D_S1.vcf'),\n",
       " PosixPath('../testdata/small_NGS20140708E_S1.vcf'),\n",
       " PosixPath('../testdata/small_NGS20140708F_S1.vcf'),\n",
       " PosixPath('../testdata/small_NGS20140708G_S1.vcf'),\n",
       " PosixPath('../testdata/small_NGS20140708H_S1.vcf'),\n",
       " PosixPath('../testdata/small_NGS20140709A_S1.vcf'),\n",
       " PosixPath('../testdata/small_NGS20140709B_S1.vcf'),\n",
       " PosixPath('../testdata/small_NGS20140709C_S1.vcf'),\n",
       " PosixPath('../testdata/small_NGS20140709D_S1.vcf'),\n",
       " PosixPath('../testdata/small_NGS20140709E_S1.vcf'),\n",
       " PosixPath('../testdata/small_NGS20140709F_S1.vcf'),\n",
       " PosixPath('../testdata/small_NGS20140709G_S1.vcf'),\n",
       " PosixPath('../testdata/small_NGS20140709H_S1.vcf'),\n",
       " PosixPath('../testdata/small_VarScan_WGC070872D_15_6_30_q0.4.vcf'),\n",
       " PosixPath('../testdata/small_VarScan_WGC070873D_15_6_30_q0.4.vcf'),\n",
       " PosixPath('../testdata/small_VarScan_WGC070874D_15_6_30_q0.4.vcf'),\n",
       " PosixPath('../testdata/small_VarScan_WGC070875D_15_6_30_q0.4.vcf'),\n",
       " PosixPath('../testdata/small_VarScan_WGC070876D_15_6_30_q0.4.vcf'),\n",
       " PosixPath('../testdata/small_VarScan_WGC070877D_15_6_30_q0.4.vcf'),\n",
       " PosixPath('../testdata/small_VarScan_WGC070878D_15_6_30_q0.4.vcf'),\n",
       " PosixPath('../testdata/small_VarScan_WGC070879D_15_6_30_q0.4.vcf'),\n",
       " PosixPath('../testdata/small_VarScan_WGC070880D_15_6_30_q0.4.vcf'),\n",
       " PosixPath('../testdata/small_VarScan_WGC070881D_15_6_30_q0.4.vcf')]"
      ]
     },
     "execution_count": 19,
     "metadata": {},
     "output_type": "execute_result"
    }
   ],
   "source": [
    "all_path"
   ]
  },
  {
   "cell_type": "code",
   "execution_count": null,
   "metadata": {
    "collapsed": true
   },
   "outputs": [],
   "source": []
  }
 ],
 "metadata": {
  "kernelspec": {
   "display_name": "Python 3",
   "language": "python",
   "name": "python3"
  },
  "language_info": {
   "codemirror_mode": {
    "name": "ipython",
    "version": 3
   },
   "file_extension": ".py",
   "mimetype": "text/x-python",
   "name": "python",
   "nbconvert_exporter": "python",
   "pygments_lexer": "ipython3",
   "version": "3.5.1"
  }
 },
 "nbformat": 4,
 "nbformat_minor": 1
}
